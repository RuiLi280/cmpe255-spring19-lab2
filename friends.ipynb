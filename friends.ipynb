{
 "cells": [
  {
   "cell_type": "code",
   "execution_count": 1,
   "metadata": {},
   "outputs": [
    {
     "name": "stdout",
     "output_type": "stream",
     "text": [
      "mean=32.81818181818182\n",
      "median=25\n"
     ]
    }
   ],
   "source": [
    "def mean_num_friends(x):\n",
    "    sum = 0\n",
    "    for i in x:\n",
    "        sum += i\n",
    "    return sum / len(x)\n",
    "\n",
    "\n",
    "def median_num_friends(x):\n",
    "    sorted_list = sorted(x)\n",
    "    mid = int(len(x) / 2)\n",
    "    if len(x) % 2 == 0:\n",
    "        return (sorted_list[mid] + sorted_list[mid + 1]) / 2\n",
    "    else:\n",
    "        return sorted_list[mid]\n",
    "\n",
    "\n",
    "num_friends = [100, 49, 41, 40, 25, 10, 5, 4, 7, 20, 60]\n",
    "print(\"mean={}\".format(mean_num_friends(num_friends)))\n",
    "\n",
    "print(\"median={}\".format(median_num_friends(num_friends)))\n"
   ]
  },
  {
   "cell_type": "code",
   "execution_count": null,
   "metadata": {},
   "outputs": [],
   "source": []
  }
 ],
 "metadata": {
  "kernelspec": {
   "display_name": "Python 3",
   "language": "python",
   "name": "python3"
  },
  "language_info": {
   "codemirror_mode": {
    "name": "ipython",
    "version": 3
   },
   "file_extension": ".py",
   "mimetype": "text/x-python",
   "name": "python",
   "nbconvert_exporter": "python",
   "pygments_lexer": "ipython3",
   "version": "3.6.5"
  }
 },
 "nbformat": 4,
 "nbformat_minor": 2
}
